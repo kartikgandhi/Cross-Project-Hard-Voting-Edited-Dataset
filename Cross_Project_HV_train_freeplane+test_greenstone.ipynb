{
  "nbformat": 4,
  "nbformat_minor": 0,
  "metadata": {
    "colab": {
      "name": "Cross Project HV train@freeplane+test@greenstone.ipynb",
      "provenance": [],
      "collapsed_sections": [],
      "include_colab_link": true
    },
    "kernelspec": {
      "display_name": "Python 3",
      "name": "python3"
    },
    "language_info": {
      "name": "python"
    }
  },
  "cells": [
    {
      "cell_type": "markdown",
      "metadata": {
        "id": "view-in-github",
        "colab_type": "text"
      },
      "source": [
        "<a href=\"https://colab.research.google.com/github/kartikgandhi/Cross-Project-Hard-Voting-Edited-Dataset/blob/main/Cross_Project_HV_train_freeplane%2Btest_greenstone.ipynb\" target=\"_parent\"><img src=\"https://colab.research.google.com/assets/colab-badge.svg\" alt=\"Open In Colab\"/></a>"
      ]
    },
    {
      "cell_type": "code",
      "metadata": {
        "id": "l4ZyGN9LB_0a"
      },
      "source": [
        "from numpy import mean\n",
        "from numpy import std"
      ],
      "execution_count": 481,
      "outputs": []
    },
    {
      "cell_type": "code",
      "metadata": {
        "id": "R_eCJLb6a0Gq"
      },
      "source": [
        "import pandas as pd\n",
        "import numpy as np\n",
        "import matplotlib.pyplot as plt\n",
        "%matplotlib inline"
      ],
      "execution_count": 482,
      "outputs": []
    },
    {
      "cell_type": "code",
      "metadata": {
        "id": "l6Lp_N4Mcd8-"
      },
      "source": [
        "from sklearn.svm import SVC\n",
        "from sklearn.ensemble import VotingClassifier"
      ],
      "execution_count": 483,
      "outputs": []
    },
    {
      "cell_type": "code",
      "metadata": {
        "colab": {
          "base_uri": "https://localhost:8080/"
        },
        "id": "0Tb8_ICkD-zN",
        "outputId": "ae0df2d5-d011-4eec-bb45-bd6083227b41"
      },
      "source": [
        "from google.colab import drive\n",
        "drive.mount('/content/gdrive')"
      ],
      "execution_count": 484,
      "outputs": [
        {
          "output_type": "stream",
          "name": "stdout",
          "text": [
            "Drive already mounted at /content/gdrive; to attempt to forcibly remount, call drive.mount(\"/content/gdrive\", force_remount=True).\n"
          ]
        }
      ]
    },
    {
      "cell_type": "code",
      "metadata": {
        "id": "oofT8ekBnU1c"
      },
      "source": [
        "#file to initalize the weights from\n",
        "weights = pd.read_csv(\"/content/gdrive/MyDrive/Edited Datasets/Edited-freeplane 1.7.9 - freeplane 1.7.9.csv\")\n"
      ],
      "execution_count": 485,
      "outputs": []
    },
    {
      "cell_type": "code",
      "metadata": {
        "id": "iGDe_vvDR7yn"
      },
      "source": [
        "weights['change'] = weights['change'].map({'YES': 1, 'NO': 0})"
      ],
      "execution_count": 486,
      "outputs": []
    },
    {
      "cell_type": "code",
      "metadata": {
        "colab": {
          "base_uri": "https://localhost:8080/"
        },
        "id": "EZ01CBbnni-X",
        "outputId": "9eef7315-5e53-4c73-cef1-6257a3bb30f1"
      },
      "source": [
        "weights.shape"
      ],
      "execution_count": 487,
      "outputs": [
        {
          "output_type": "execute_result",
          "data": {
            "text/plain": [
              "(1278, 8)"
            ]
          },
          "metadata": {},
          "execution_count": 487
        }
      ]
    },
    {
      "cell_type": "code",
      "metadata": {
        "colab": {
          "base_uri": "https://localhost:8080/",
          "height": 206
        },
        "id": "akKqgkYUogEL",
        "outputId": "d5941e55-18f9-4f67-cc9b-41d433f4992f"
      },
      "source": [
        "weights.head()"
      ],
      "execution_count": 488,
      "outputs": [
        {
          "output_type": "execute_result",
          "data": {
            "text/html": [
              "\n",
              "  <div id=\"df-f9f9d982-057b-46cb-ae7a-38ad13bd9135\">\n",
              "    <div class=\"colab-df-container\">\n",
              "      <div>\n",
              "<style scoped>\n",
              "    .dataframe tbody tr th:only-of-type {\n",
              "        vertical-align: middle;\n",
              "    }\n",
              "\n",
              "    .dataframe tbody tr th {\n",
              "        vertical-align: top;\n",
              "    }\n",
              "\n",
              "    .dataframe thead th {\n",
              "        text-align: right;\n",
              "    }\n",
              "</style>\n",
              "<table border=\"1\" class=\"dataframe\">\n",
              "  <thead>\n",
              "    <tr style=\"text-align: right;\">\n",
              "      <th></th>\n",
              "      <th>CBO</th>\n",
              "      <th>NOC</th>\n",
              "      <th>RFC</th>\n",
              "      <th>LOC</th>\n",
              "      <th>DIT</th>\n",
              "      <th>LCOM</th>\n",
              "      <th>WMC</th>\n",
              "      <th>change</th>\n",
              "    </tr>\n",
              "  </thead>\n",
              "  <tbody>\n",
              "    <tr>\n",
              "      <th>0</th>\n",
              "      <td>6</td>\n",
              "      <td>0</td>\n",
              "      <td>12</td>\n",
              "      <td>155</td>\n",
              "      <td>1</td>\n",
              "      <td>70</td>\n",
              "      <td>32</td>\n",
              "      <td>0</td>\n",
              "    </tr>\n",
              "    <tr>\n",
              "      <th>1</th>\n",
              "      <td>9</td>\n",
              "      <td>0</td>\n",
              "      <td>5</td>\n",
              "      <td>118</td>\n",
              "      <td>1</td>\n",
              "      <td>50</td>\n",
              "      <td>22</td>\n",
              "      <td>0</td>\n",
              "    </tr>\n",
              "    <tr>\n",
              "      <th>2</th>\n",
              "      <td>3</td>\n",
              "      <td>0</td>\n",
              "      <td>2</td>\n",
              "      <td>20</td>\n",
              "      <td>2</td>\n",
              "      <td>0</td>\n",
              "      <td>4</td>\n",
              "      <td>0</td>\n",
              "    </tr>\n",
              "    <tr>\n",
              "      <th>3</th>\n",
              "      <td>2</td>\n",
              "      <td>0</td>\n",
              "      <td>1</td>\n",
              "      <td>7</td>\n",
              "      <td>2</td>\n",
              "      <td>0</td>\n",
              "      <td>1</td>\n",
              "      <td>0</td>\n",
              "    </tr>\n",
              "    <tr>\n",
              "      <th>4</th>\n",
              "      <td>0</td>\n",
              "      <td>0</td>\n",
              "      <td>24</td>\n",
              "      <td>128</td>\n",
              "      <td>2</td>\n",
              "      <td>0</td>\n",
              "      <td>27</td>\n",
              "      <td>0</td>\n",
              "    </tr>\n",
              "  </tbody>\n",
              "</table>\n",
              "</div>\n",
              "      <button class=\"colab-df-convert\" onclick=\"convertToInteractive('df-f9f9d982-057b-46cb-ae7a-38ad13bd9135')\"\n",
              "              title=\"Convert this dataframe to an interactive table.\"\n",
              "              style=\"display:none;\">\n",
              "        \n",
              "  <svg xmlns=\"http://www.w3.org/2000/svg\" height=\"24px\"viewBox=\"0 0 24 24\"\n",
              "       width=\"24px\">\n",
              "    <path d=\"M0 0h24v24H0V0z\" fill=\"none\"/>\n",
              "    <path d=\"M18.56 5.44l.94 2.06.94-2.06 2.06-.94-2.06-.94-.94-2.06-.94 2.06-2.06.94zm-11 1L8.5 8.5l.94-2.06 2.06-.94-2.06-.94L8.5 2.5l-.94 2.06-2.06.94zm10 10l.94 2.06.94-2.06 2.06-.94-2.06-.94-.94-2.06-.94 2.06-2.06.94z\"/><path d=\"M17.41 7.96l-1.37-1.37c-.4-.4-.92-.59-1.43-.59-.52 0-1.04.2-1.43.59L10.3 9.45l-7.72 7.72c-.78.78-.78 2.05 0 2.83L4 21.41c.39.39.9.59 1.41.59.51 0 1.02-.2 1.41-.59l7.78-7.78 2.81-2.81c.8-.78.8-2.07 0-2.86zM5.41 20L4 18.59l7.72-7.72 1.47 1.35L5.41 20z\"/>\n",
              "  </svg>\n",
              "      </button>\n",
              "      \n",
              "  <style>\n",
              "    .colab-df-container {\n",
              "      display:flex;\n",
              "      flex-wrap:wrap;\n",
              "      gap: 12px;\n",
              "    }\n",
              "\n",
              "    .colab-df-convert {\n",
              "      background-color: #E8F0FE;\n",
              "      border: none;\n",
              "      border-radius: 50%;\n",
              "      cursor: pointer;\n",
              "      display: none;\n",
              "      fill: #1967D2;\n",
              "      height: 32px;\n",
              "      padding: 0 0 0 0;\n",
              "      width: 32px;\n",
              "    }\n",
              "\n",
              "    .colab-df-convert:hover {\n",
              "      background-color: #E2EBFA;\n",
              "      box-shadow: 0px 1px 2px rgba(60, 64, 67, 0.3), 0px 1px 3px 1px rgba(60, 64, 67, 0.15);\n",
              "      fill: #174EA6;\n",
              "    }\n",
              "\n",
              "    [theme=dark] .colab-df-convert {\n",
              "      background-color: #3B4455;\n",
              "      fill: #D2E3FC;\n",
              "    }\n",
              "\n",
              "    [theme=dark] .colab-df-convert:hover {\n",
              "      background-color: #434B5C;\n",
              "      box-shadow: 0px 1px 3px 1px rgba(0, 0, 0, 0.15);\n",
              "      filter: drop-shadow(0px 1px 2px rgba(0, 0, 0, 0.3));\n",
              "      fill: #FFFFFF;\n",
              "    }\n",
              "  </style>\n",
              "\n",
              "      <script>\n",
              "        const buttonEl =\n",
              "          document.querySelector('#df-f9f9d982-057b-46cb-ae7a-38ad13bd9135 button.colab-df-convert');\n",
              "        buttonEl.style.display =\n",
              "          google.colab.kernel.accessAllowed ? 'block' : 'none';\n",
              "\n",
              "        async function convertToInteractive(key) {\n",
              "          const element = document.querySelector('#df-f9f9d982-057b-46cb-ae7a-38ad13bd9135');\n",
              "          const dataTable =\n",
              "            await google.colab.kernel.invokeFunction('convertToInteractive',\n",
              "                                                     [key], {});\n",
              "          if (!dataTable) return;\n",
              "\n",
              "          const docLinkHtml = 'Like what you see? Visit the ' +\n",
              "            '<a target=\"_blank\" href=https://colab.research.google.com/notebooks/data_table.ipynb>data table notebook</a>'\n",
              "            + ' to learn more about interactive tables.';\n",
              "          element.innerHTML = '';\n",
              "          dataTable['output_type'] = 'display_data';\n",
              "          await google.colab.output.renderOutput(dataTable, element);\n",
              "          const docLink = document.createElement('div');\n",
              "          docLink.innerHTML = docLinkHtml;\n",
              "          element.appendChild(docLink);\n",
              "        }\n",
              "      </script>\n",
              "    </div>\n",
              "  </div>\n",
              "  "
            ],
            "text/plain": [
              "   CBO  NOC  RFC  LOC  DIT  LCOM  WMC  change\n",
              "0    6    0   12  155    1    70   32       0\n",
              "1    9    0    5  118    1    50   22       0\n",
              "2    3    0    2   20    2     0    4       0\n",
              "3    2    0    1    7    2     0    1       0\n",
              "4    0    0   24  128    2     0   27       0"
            ]
          },
          "metadata": {},
          "execution_count": 488
        }
      ]
    },
    {
      "cell_type": "code",
      "metadata": {
        "id": "aSritfFRojnR"
      },
      "source": [
        "X = weights.drop('change', axis=1)\n",
        "y = weights['change']"
      ],
      "execution_count": 489,
      "outputs": []
    },
    {
      "cell_type": "code",
      "metadata": {
        "id": "_qWWESV1o8f0"
      },
      "source": [
        "from sklearn.model_selection import train_test_split\n",
        "from sklearn.metrics import accuracy_score\n",
        "# split the full train set into train and validation sets\n",
        "X_train, X_val, y_train, y_val = train_test_split(X, y, test_size=0.33, random_state=1)"
      ],
      "execution_count": 490,
      "outputs": []
    },
    {
      "cell_type": "code",
      "metadata": {
        "id": "DurRd1OOAQD3"
      },
      "source": [
        "# get a list of base models\n",
        "def get_models():\n",
        "\t# define the base models\n",
        "\tmodels = list()\n",
        "\tmodels.append(('lin', SVC(probability=True, kernel='linear')))\n",
        "\tmodels.append(('rbf', SVC(probability=True, kernel='rbf')))\n",
        "\tmodels.append(('poly', SVC(probability=True, kernel='poly')))\n",
        "\treturn models"
      ],
      "execution_count": 491,
      "outputs": []
    },
    {
      "cell_type": "code",
      "metadata": {
        "id": "1IkyHzHE7R5I"
      },
      "source": [
        "# evaluate each base model\n",
        "def evaluate_models(models, X_train, X_val, y_train, y_val):\n",
        "\t# fit and evaluate the models\n",
        "\tscores = list()\n",
        "\tfor name, model in models:\n",
        "\t\t# fit the model\n",
        "\t\tmodel.fit(X_train, y_train)\n",
        "\t\t# evaluate the model\n",
        "\t\tyhat = model.predict(X_val)\n",
        "\t\tacc = accuracy_score(y_val, yhat)\n",
        "\t\t# store the performance\n",
        "\t\tscores.append(acc)\n",
        "\t\t# report model performance\n",
        "\treturn scores"
      ],
      "execution_count": 492,
      "outputs": []
    },
    {
      "cell_type": "code",
      "metadata": {
        "colab": {
          "base_uri": "https://localhost:8080/"
        },
        "id": "k1kz0PCp845D",
        "outputId": "0c2a465b-941f-4355-c2b3-524eb722b325"
      },
      "source": [
        "# create the base models\n",
        "models = get_models()\n",
        "# fit and evaluate each model\n",
        "scores = evaluate_models(models, X_train, X_val, y_train, y_val)\n",
        "print(scores)"
      ],
      "execution_count": 493,
      "outputs": [
        {
          "output_type": "stream",
          "name": "stdout",
          "text": [
            "[0.9170616113744076, 0.9218009478672986, 0.9218009478672986]\n"
          ]
        }
      ]
    },
    {
      "cell_type": "code",
      "metadata": {
        "id": "bP_PSj7th1Xd"
      },
      "source": [
        "data = pd.read_csv(\"/content/gdrive/MyDrive/Edited Datasets/Edited-greenstone 3.0.7 - greenstone 3.0.7.csv\")"
      ],
      "execution_count": 494,
      "outputs": []
    },
    {
      "cell_type": "code",
      "metadata": {
        "id": "x4RpybUZiAhY"
      },
      "source": [
        "data['change'] = data['change'].map({'YES': 1, 'NO': 0})"
      ],
      "execution_count": 495,
      "outputs": []
    },
    {
      "cell_type": "code",
      "metadata": {
        "colab": {
          "base_uri": "https://localhost:8080/"
        },
        "id": "P1rJB8QhiF9X",
        "outputId": "f53b40ab-30a2-4a22-a03b-b6bba5964ec2"
      },
      "source": [
        "data.shape"
      ],
      "execution_count": 496,
      "outputs": [
        {
          "output_type": "execute_result",
          "data": {
            "text/plain": [
              "(601, 8)"
            ]
          },
          "metadata": {},
          "execution_count": 496
        }
      ]
    },
    {
      "cell_type": "code",
      "metadata": {
        "colab": {
          "base_uri": "https://localhost:8080/",
          "height": 206
        },
        "id": "BAcAe4EIiIi8",
        "outputId": "57fc169d-9bb0-4942-d9e5-156670c04d95"
      },
      "source": [
        "data.head()"
      ],
      "execution_count": 497,
      "outputs": [
        {
          "output_type": "execute_result",
          "data": {
            "text/html": [
              "\n",
              "  <div id=\"df-7a3e4c1a-1355-47c5-8d31-0753c3be11e9\">\n",
              "    <div class=\"colab-df-container\">\n",
              "      <div>\n",
              "<style scoped>\n",
              "    .dataframe tbody tr th:only-of-type {\n",
              "        vertical-align: middle;\n",
              "    }\n",
              "\n",
              "    .dataframe tbody tr th {\n",
              "        vertical-align: top;\n",
              "    }\n",
              "\n",
              "    .dataframe thead th {\n",
              "        text-align: right;\n",
              "    }\n",
              "</style>\n",
              "<table border=\"1\" class=\"dataframe\">\n",
              "  <thead>\n",
              "    <tr style=\"text-align: right;\">\n",
              "      <th></th>\n",
              "      <th>CBO</th>\n",
              "      <th>NOC</th>\n",
              "      <th>RFC</th>\n",
              "      <th>LOC</th>\n",
              "      <th>DIT</th>\n",
              "      <th>LCOM</th>\n",
              "      <th>WMC</th>\n",
              "      <th>change</th>\n",
              "    </tr>\n",
              "  </thead>\n",
              "  <tbody>\n",
              "    <tr>\n",
              "      <th>0</th>\n",
              "      <td>4</td>\n",
              "      <td>0</td>\n",
              "      <td>34</td>\n",
              "      <td>189</td>\n",
              "      <td>1</td>\n",
              "      <td>78</td>\n",
              "      <td>24</td>\n",
              "      <td>1</td>\n",
              "    </tr>\n",
              "    <tr>\n",
              "      <th>1</th>\n",
              "      <td>6</td>\n",
              "      <td>0</td>\n",
              "      <td>5</td>\n",
              "      <td>133</td>\n",
              "      <td>1</td>\n",
              "      <td>50</td>\n",
              "      <td>20</td>\n",
              "      <td>1</td>\n",
              "    </tr>\n",
              "    <tr>\n",
              "      <th>2</th>\n",
              "      <td>7</td>\n",
              "      <td>0</td>\n",
              "      <td>60</td>\n",
              "      <td>2124</td>\n",
              "      <td>1</td>\n",
              "      <td>0</td>\n",
              "      <td>355</td>\n",
              "      <td>1</td>\n",
              "    </tr>\n",
              "    <tr>\n",
              "      <th>3</th>\n",
              "      <td>21</td>\n",
              "      <td>0</td>\n",
              "      <td>15</td>\n",
              "      <td>145</td>\n",
              "      <td>1</td>\n",
              "      <td>85</td>\n",
              "      <td>17</td>\n",
              "      <td>1</td>\n",
              "    </tr>\n",
              "    <tr>\n",
              "      <th>4</th>\n",
              "      <td>10</td>\n",
              "      <td>0</td>\n",
              "      <td>13</td>\n",
              "      <td>721</td>\n",
              "      <td>1</td>\n",
              "      <td>91</td>\n",
              "      <td>27</td>\n",
              "      <td>1</td>\n",
              "    </tr>\n",
              "  </tbody>\n",
              "</table>\n",
              "</div>\n",
              "      <button class=\"colab-df-convert\" onclick=\"convertToInteractive('df-7a3e4c1a-1355-47c5-8d31-0753c3be11e9')\"\n",
              "              title=\"Convert this dataframe to an interactive table.\"\n",
              "              style=\"display:none;\">\n",
              "        \n",
              "  <svg xmlns=\"http://www.w3.org/2000/svg\" height=\"24px\"viewBox=\"0 0 24 24\"\n",
              "       width=\"24px\">\n",
              "    <path d=\"M0 0h24v24H0V0z\" fill=\"none\"/>\n",
              "    <path d=\"M18.56 5.44l.94 2.06.94-2.06 2.06-.94-2.06-.94-.94-2.06-.94 2.06-2.06.94zm-11 1L8.5 8.5l.94-2.06 2.06-.94-2.06-.94L8.5 2.5l-.94 2.06-2.06.94zm10 10l.94 2.06.94-2.06 2.06-.94-2.06-.94-.94-2.06-.94 2.06-2.06.94z\"/><path d=\"M17.41 7.96l-1.37-1.37c-.4-.4-.92-.59-1.43-.59-.52 0-1.04.2-1.43.59L10.3 9.45l-7.72 7.72c-.78.78-.78 2.05 0 2.83L4 21.41c.39.39.9.59 1.41.59.51 0 1.02-.2 1.41-.59l7.78-7.78 2.81-2.81c.8-.78.8-2.07 0-2.86zM5.41 20L4 18.59l7.72-7.72 1.47 1.35L5.41 20z\"/>\n",
              "  </svg>\n",
              "      </button>\n",
              "      \n",
              "  <style>\n",
              "    .colab-df-container {\n",
              "      display:flex;\n",
              "      flex-wrap:wrap;\n",
              "      gap: 12px;\n",
              "    }\n",
              "\n",
              "    .colab-df-convert {\n",
              "      background-color: #E8F0FE;\n",
              "      border: none;\n",
              "      border-radius: 50%;\n",
              "      cursor: pointer;\n",
              "      display: none;\n",
              "      fill: #1967D2;\n",
              "      height: 32px;\n",
              "      padding: 0 0 0 0;\n",
              "      width: 32px;\n",
              "    }\n",
              "\n",
              "    .colab-df-convert:hover {\n",
              "      background-color: #E2EBFA;\n",
              "      box-shadow: 0px 1px 2px rgba(60, 64, 67, 0.3), 0px 1px 3px 1px rgba(60, 64, 67, 0.15);\n",
              "      fill: #174EA6;\n",
              "    }\n",
              "\n",
              "    [theme=dark] .colab-df-convert {\n",
              "      background-color: #3B4455;\n",
              "      fill: #D2E3FC;\n",
              "    }\n",
              "\n",
              "    [theme=dark] .colab-df-convert:hover {\n",
              "      background-color: #434B5C;\n",
              "      box-shadow: 0px 1px 3px 1px rgba(0, 0, 0, 0.15);\n",
              "      filter: drop-shadow(0px 1px 2px rgba(0, 0, 0, 0.3));\n",
              "      fill: #FFFFFF;\n",
              "    }\n",
              "  </style>\n",
              "\n",
              "      <script>\n",
              "        const buttonEl =\n",
              "          document.querySelector('#df-7a3e4c1a-1355-47c5-8d31-0753c3be11e9 button.colab-df-convert');\n",
              "        buttonEl.style.display =\n",
              "          google.colab.kernel.accessAllowed ? 'block' : 'none';\n",
              "\n",
              "        async function convertToInteractive(key) {\n",
              "          const element = document.querySelector('#df-7a3e4c1a-1355-47c5-8d31-0753c3be11e9');\n",
              "          const dataTable =\n",
              "            await google.colab.kernel.invokeFunction('convertToInteractive',\n",
              "                                                     [key], {});\n",
              "          if (!dataTable) return;\n",
              "\n",
              "          const docLinkHtml = 'Like what you see? Visit the ' +\n",
              "            '<a target=\"_blank\" href=https://colab.research.google.com/notebooks/data_table.ipynb>data table notebook</a>'\n",
              "            + ' to learn more about interactive tables.';\n",
              "          element.innerHTML = '';\n",
              "          dataTable['output_type'] = 'display_data';\n",
              "          await google.colab.output.renderOutput(dataTable, element);\n",
              "          const docLink = document.createElement('div');\n",
              "          docLink.innerHTML = docLinkHtml;\n",
              "          element.appendChild(docLink);\n",
              "        }\n",
              "      </script>\n",
              "    </div>\n",
              "  </div>\n",
              "  "
            ],
            "text/plain": [
              "   CBO  NOC  RFC   LOC  DIT  LCOM  WMC  change\n",
              "0    4    0   34   189    1    78   24       1\n",
              "1    6    0    5   133    1    50   20       1\n",
              "2    7    0   60  2124    1     0  355       1\n",
              "3   21    0   15   145    1    85   17       1\n",
              "4   10    0   13   721    1    91   27       1"
            ]
          },
          "metadata": {},
          "execution_count": 497
        }
      ]
    },
    {
      "cell_type": "code",
      "metadata": {
        "id": "2fu8iSqliLBm"
      },
      "source": [
        "X = data.drop('change', axis=1)\n",
        "y = data['change']"
      ],
      "execution_count": 498,
      "outputs": []
    },
    {
      "cell_type": "code",
      "metadata": {
        "id": "pKgL8aG_iaQP"
      },
      "source": [
        "from sklearn.model_selection import train_test_split\n",
        "X_train, X_test, y_train, y_test = train_test_split(X, y, test_size = 0.20)"
      ],
      "execution_count": 499,
      "outputs": []
    },
    {
      "cell_type": "code",
      "metadata": {
        "id": "M6YoOBOe9-s2"
      },
      "source": [
        "# create the ensemble\n",
        "ensemble = VotingClassifier(estimators=models, voting='hard', weights=scores)\n",
        "# fit the ensemble on the training dataset\n",
        "ensemble=ensemble.fit(X_train, y_train)\n",
        "# make predictions on test set\n",
        "yhat = ensemble.predict(X_test)"
      ],
      "execution_count": 500,
      "outputs": []
    },
    {
      "cell_type": "code",
      "metadata": {
        "colab": {
          "base_uri": "https://localhost:8080/"
        },
        "id": "QUhnlqvUBKhS",
        "outputId": "ef858bb8-944b-4459-f6c5-892698a787a1"
      },
      "source": [
        "# evaluate predictions\n",
        "score = accuracy_score(y_test, yhat)\n",
        "print('Weighted Avg Accuracy: %.3f' % (score*100))"
      ],
      "execution_count": 501,
      "outputs": [
        {
          "output_type": "stream",
          "name": "stdout",
          "text": [
            "Weighted Avg Accuracy: 84.298\n"
          ]
        }
      ]
    },
    {
      "cell_type": "code",
      "metadata": {
        "colab": {
          "base_uri": "https://localhost:8080/"
        },
        "id": "xrWfHRUwEb1L",
        "outputId": "77f611ab-a0f6-4027-e5f3-bf88e94739b9"
      },
      "source": [
        "print(yhat)"
      ],
      "execution_count": 502,
      "outputs": [
        {
          "output_type": "stream",
          "name": "stdout",
          "text": [
            "[0 0 0 0 0 0 0 0 0 0 0 0 0 0 0 0 0 0 0 0 0 0 0 0 0 0 0 0 0 0 0 0 0 0 0 0 0\n",
            " 0 0 0 0 0 0 0 0 0 0 0 0 0 0 0 0 0 0 0 0 0 0 0 0 0 0 0 0 0 0 0 0 0 0 0 0 0\n",
            " 0 0 0 0 0 0 0 0 0 0 0 0 0 0 0 0 0 0 0 0 0 0 0 0 0 0 0 0 0 0 0 0 0 0 0 0 0\n",
            " 0 0 0 0 0 0 0 0 0 1]\n"
          ]
        }
      ]
    },
    {
      "cell_type": "code",
      "metadata": {
        "id": "ouyEjtgJBMnS",
        "colab": {
          "base_uri": "https://localhost:8080/"
        },
        "outputId": "6ba77175-7040-4a2d-8d76-f321b4ce68c1"
      },
      "source": [
        "from sklearn.metrics import classification_report, confusion_matrix\n",
        "cm=confusion_matrix(y_test,yhat)\n",
        "print(cm)"
      ],
      "execution_count": 503,
      "outputs": [
        {
          "output_type": "stream",
          "name": "stdout",
          "text": [
            "[[101   0]\n",
            " [ 19   1]]\n"
          ]
        }
      ]
    },
    {
      "cell_type": "code",
      "metadata": {
        "id": "riyJPtfvbu-Q"
      },
      "source": [
        "# predict probabilities\n",
        "# from sklearn.metrics import roc_auc_score\n",
        "# pred_prob = ensemble.predict_proba(X_test)\n",
        "# auc_score = roc_auc_score(y_test, pred_prob[:,1])\n",
        "# print(\"Area Under Curve=\")\n",
        "# print(auc_score)"
      ],
      "execution_count": 504,
      "outputs": []
    },
    {
      "cell_type": "code",
      "metadata": {
        "id": "rFxvtWMlpCc0",
        "colab": {
          "base_uri": "https://localhost:8080/"
        },
        "outputId": "7e68387e-0679-421d-ccc9-a64bcd876998"
      },
      "source": [
        "from sklearn.metrics import matthews_corrcoef\n",
        "mcc=matthews_corrcoef(y_test,yhat)\n",
        "print(\"Matthews correlation coefficient=\")\n",
        "print(mcc)"
      ],
      "execution_count": 505,
      "outputs": [
        {
          "output_type": "stream",
          "name": "stdout",
          "text": [
            "Matthews correlation coefficient=\n",
            "0.20514222708485286\n"
          ]
        }
      ]
    },
    {
      "cell_type": "code",
      "metadata": {
        "id": "rwWCRui0Ejyo",
        "colab": {
          "base_uri": "https://localhost:8080/"
        },
        "outputId": "7a4a8a23-9996-4f43-8d97-cd5ea277bbe0"
      },
      "source": [
        "from sklearn.metrics import balanced_accuracy_score\n",
        "bac=balanced_accuracy_score(y_test, yhat)\n",
        "print(\"Balanced Accuracy Score=\")\n",
        "print(bac)"
      ],
      "execution_count": 506,
      "outputs": [
        {
          "output_type": "stream",
          "name": "stdout",
          "text": [
            "Balanced Accuracy Score=\n",
            "0.525\n"
          ]
        }
      ]
    },
    {
      "cell_type": "code",
      "metadata": {
        "id": "e75P66kkdOAG",
        "colab": {
          "base_uri": "https://localhost:8080/"
        },
        "outputId": "78c9b44c-8a6a-4cd8-b8ec-fccfc2e73a95"
      },
      "source": [
        "from imblearn.metrics import geometric_mean_score\n",
        "gmean=geometric_mean_score(y_test, yhat)\n",
        "print(\"Geometric Mean Score=\")\n",
        "print(gmean)"
      ],
      "execution_count": 507,
      "outputs": [
        {
          "output_type": "stream",
          "name": "stdout",
          "text": [
            "Geometric Mean Score=\n",
            "0.223606797749979\n"
          ]
        }
      ]
    },
    {
      "cell_type": "code",
      "metadata": {
        "colab": {
          "base_uri": "https://localhost:8080/"
        },
        "id": "4bUWaOFZ_m65",
        "outputId": "29795427-28fa-4187-b20f-3fa3e61746c5"
      },
      "source": [
        "print(classification_report(y_test,yhat))"
      ],
      "execution_count": 508,
      "outputs": [
        {
          "output_type": "stream",
          "name": "stdout",
          "text": [
            "              precision    recall  f1-score   support\n",
            "\n",
            "           0       0.84      1.00      0.91       101\n",
            "           1       1.00      0.05      0.10        20\n",
            "\n",
            "    accuracy                           0.84       121\n",
            "   macro avg       0.92      0.53      0.50       121\n",
            "weighted avg       0.87      0.84      0.78       121\n",
            "\n"
          ]
        }
      ]
    }
  ]
}